{
 "cells": [
  {
   "cell_type": "code",
   "execution_count": 1,
   "metadata": {},
   "outputs": [
    {
     "name": "stderr",
     "output_type": "stream",
     "text": [
      "/Users/s10969/Library/Caches/pypoetry/virtualenvs/mlops-handson-r7fcDA3h-py3.9/lib/python3.9/site-packages/tqdm/auto.py:21: TqdmWarning: IProgress not found. Please update jupyter and ipywidgets. See https://ipywidgets.readthedocs.io/en/stable/user_install.html\n",
      "  from .autonotebook import tqdm as notebook_tqdm\n"
     ]
    }
   ],
   "source": [
    "import polars as pl\n",
    "from sklearn.linear_model import SGDClassifier\n",
    "from datetime import datetime\n",
    "import numpy as np\n",
    "import optuna\n",
    "from sklearn.feature_extraction import FeatureHasher\n",
    "from sklearn.model_selection import train_test_split\n",
    "import warnings\n",
    "warnings.filterwarnings('ignore')"
   ]
  },
  {
   "cell_type": "markdown",
   "metadata": {},
   "source": [
    "# データ読み込み"
   ]
  },
  {
   "cell_type": "code",
   "execution_count": 2,
   "metadata": {
    "pycharm": {
     "name": "#%%\n"
    }
   },
   "outputs": [],
   "source": [
    "df = pl.read_csv(\"train_data\")"
   ]
  },
  {
   "cell_type": "code",
   "execution_count": 3,
   "metadata": {},
   "outputs": [
    {
     "data": {
      "text/html": [
       "<div><style>\n",
       ".dataframe > thead > tr > th,\n",
       ".dataframe > tbody > tr > td {\n",
       "  text-align: right;\n",
       "}\n",
       "</style>\n",
       "<small>shape: (404290, 24)</small><table border=\"1\" class=\"dataframe\"><thead><tr><th>id</th><th>click</th><th>hour</th><th>C1</th><th>banner_pos</th><th>site_id</th><th>site_domain</th><th>site_category</th><th>app_id</th><th>app_domain</th><th>app_category</th><th>device_id</th><th>device_ip</th><th>device_model</th><th>device_type</th><th>device_conn_type</th><th>C14</th><th>C15</th><th>C16</th><th>C17</th><th>C18</th><th>C19</th><th>C20</th><th>C21</th></tr><tr><td>f64</td><td>i64</td><td>i64</td><td>i64</td><td>i64</td><td>str</td><td>str</td><td>str</td><td>str</td><td>str</td><td>str</td><td>str</td><td>str</td><td>str</td><td>i64</td><td>i64</td><td>i64</td><td>i64</td><td>i64</td><td>i64</td><td>i64</td><td>i64</td><td>i64</td><td>i64</td></tr></thead><tbody><tr><td>1.0000e18</td><td>0</td><td>14102100</td><td>1005</td><td>0</td><td>&quot;1fbe01fe&quot;</td><td>&quot;f3845767&quot;</td><td>&quot;28905ebd&quot;</td><td>&quot;ecad2386&quot;</td><td>&quot;7801e8d9&quot;</td><td>&quot;07d7df22&quot;</td><td>&quot;a99f214a&quot;</td><td>&quot;ddd2926e&quot;</td><td>&quot;44956a24&quot;</td><td>1</td><td>2</td><td>15706</td><td>320</td><td>50</td><td>1722</td><td>0</td><td>35</td><td>-1</td><td>79</td></tr><tr><td>1.0016e19</td><td>0</td><td>14102100</td><td>1005</td><td>1</td><td>&quot;856e6d3f&quot;</td><td>&quot;58a89a43&quot;</td><td>&quot;f028772b&quot;</td><td>&quot;ecad2386&quot;</td><td>&quot;7801e8d9&quot;</td><td>&quot;07d7df22&quot;</td><td>&quot;a99f214a&quot;</td><td>&quot;4375586d&quot;</td><td>&quot;5ec45883&quot;</td><td>1</td><td>0</td><td>19772</td><td>320</td><td>50</td><td>2227</td><td>0</td><td>687</td><td>100075</td><td>48</td></tr><tr><td>1.0029e18</td><td>0</td><td>14102100</td><td>1005</td><td>0</td><td>&quot;85f751fd&quot;</td><td>&quot;c4e18dd6&quot;</td><td>&quot;50e219e0&quot;</td><td>&quot;1779deee&quot;</td><td>&quot;2347f47a&quot;</td><td>&quot;f95efa07&quot;</td><td>&quot;a99f214a&quot;</td><td>&quot;ab9a5222&quot;</td><td>&quot;2ee63ff8&quot;</td><td>1</td><td>0</td><td>20596</td><td>320</td><td>50</td><td>2161</td><td>0</td><td>35</td><td>-1</td><td>157</td></tr><tr><td>1.0045e19</td><td>0</td><td>14102100</td><td>1005</td><td>0</td><td>&quot;85f751fd&quot;</td><td>&quot;c4e18dd6&quot;</td><td>&quot;50e219e0&quot;</td><td>&quot;51cedd4e&quot;</td><td>&quot;aefc06bd&quot;</td><td>&quot;0f2161f8&quot;</td><td>&quot;a99f214a&quot;</td><td>&quot;bbe53381&quot;</td><td>&quot;542422a7&quot;</td><td>1</td><td>0</td><td>19743</td><td>320</td><td>50</td><td>2264</td><td>3</td><td>427</td><td>100000</td><td>61</td></tr><tr><td>1.0060e19</td><td>0</td><td>14102100</td><td>1005</td><td>0</td><td>&quot;1fbe01fe&quot;</td><td>&quot;f3845767&quot;</td><td>&quot;28905ebd&quot;</td><td>&quot;ecad2386&quot;</td><td>&quot;7801e8d9&quot;</td><td>&quot;07d7df22&quot;</td><td>&quot;a99f214a&quot;</td><td>&quot;8a014cbb&quot;</td><td>&quot;04f5b394&quot;</td><td>1</td><td>0</td><td>15702</td><td>320</td><td>50</td><td>1722</td><td>0</td><td>35</td><td>-1</td><td>79</td></tr><tr><td>1.0073e19</td><td>0</td><td>14102100</td><td>1005</td><td>1</td><td>&quot;85f751fd&quot;</td><td>&quot;c4e18dd6&quot;</td><td>&quot;50e219e0&quot;</td><td>&quot;13684a79&quot;</td><td>&quot;2347f47a&quot;</td><td>&quot;0f2161f8&quot;</td><td>&quot;0240183e&quot;</td><td>&quot;76f576f3&quot;</td><td>&quot;be6db1d7&quot;</td><td>1</td><td>0</td><td>20596</td><td>320</td><td>50</td><td>2161</td><td>0</td><td>35</td><td>-1</td><td>157</td></tr><tr><td>1.0087e19</td><td>0</td><td>14102100</td><td>1005</td><td>0</td><td>&quot;85f751fd&quot;</td><td>&quot;c4e18dd6&quot;</td><td>&quot;50e219e0&quot;</td><td>&quot;e2fcccd2&quot;</td><td>&quot;5c5a694b&quot;</td><td>&quot;0f2161f8&quot;</td><td>&quot;4c362c9f&quot;</td><td>&quot;42951c8d&quot;</td><td>&quot;e981565c&quot;</td><td>1</td><td>0</td><td>20633</td><td>320</td><td>50</td><td>2374</td><td>3</td><td>39</td><td>-1</td><td>23</td></tr><tr><td>1.0100e19</td><td>0</td><td>14102100</td><td>1002</td><td>0</td><td>&quot;34d1d55f&quot;</td><td>&quot;97df357a&quot;</td><td>&quot;50e219e0&quot;</td><td>&quot;ecad2386&quot;</td><td>&quot;7801e8d9&quot;</td><td>&quot;07d7df22&quot;</td><td>&quot;53c581eb&quot;</td><td>&quot;bc7b50e0&quot;</td><td>&quot;43e7b962&quot;</td><td>0</td><td>0</td><td>20170</td><td>300</td><td>50</td><td>2312</td><td>0</td><td>167</td><td>100075</td><td>16</td></tr><tr><td>1.0113e19</td><td>1</td><td>14102100</td><td>1005</td><td>0</td><td>&quot;1fbe01fe&quot;</td><td>&quot;f3845767&quot;</td><td>&quot;28905ebd&quot;</td><td>&quot;ecad2386&quot;</td><td>&quot;7801e8d9&quot;</td><td>&quot;07d7df22&quot;</td><td>&quot;a99f214a&quot;</td><td>&quot;bc7f9471&quot;</td><td>&quot;8b1aa260&quot;</td><td>1</td><td>0</td><td>15705</td><td>320</td><td>50</td><td>1722</td><td>0</td><td>35</td><td>-1</td><td>79</td></tr><tr><td>1.0129e19</td><td>0</td><td>14102100</td><td>1005</td><td>0</td><td>&quot;85f751fd&quot;</td><td>&quot;c4e18dd6&quot;</td><td>&quot;50e219e0&quot;</td><td>&quot;2f6efcf2&quot;</td><td>&quot;813f3323&quot;</td><td>&quot;0f2161f8&quot;</td><td>&quot;a99f214a&quot;</td><td>&quot;bfe46e76&quot;</td><td>&quot;4ea23a13&quot;</td><td>1</td><td>0</td><td>21611</td><td>320</td><td>50</td><td>2480</td><td>3</td><td>297</td><td>100111</td><td>61</td></tr><tr><td>1.0144e19</td><td>0</td><td>14102100</td><td>1005</td><td>0</td><td>&quot;1fbe01fe&quot;</td><td>&quot;f3845767&quot;</td><td>&quot;28905ebd&quot;</td><td>&quot;ecad2386&quot;</td><td>&quot;7801e8d9&quot;</td><td>&quot;07d7df22&quot;</td><td>&quot;a99f214a&quot;</td><td>&quot;52aa6971&quot;</td><td>&quot;8a4875bd&quot;</td><td>1</td><td>0</td><td>15706</td><td>320</td><td>50</td><td>1722</td><td>0</td><td>35</td><td>-1</td><td>79</td></tr><tr><td>1.0160e19</td><td>0</td><td>14102100</td><td>1005</td><td>0</td><td>&quot;1fbe01fe&quot;</td><td>&quot;f3845767&quot;</td><td>&quot;28905ebd&quot;</td><td>&quot;ecad2386&quot;</td><td>&quot;7801e8d9&quot;</td><td>&quot;07d7df22&quot;</td><td>&quot;a99f214a&quot;</td><td>&quot;0489ce3f&quot;</td><td>&quot;e9b8d8d7&quot;</td><td>1</td><td>0</td><td>15705</td><td>320</td><td>50</td><td>1722</td><td>0</td><td>35</td><td>-1</td><td>79</td></tr><tr><td>&hellip;</td><td>&hellip;</td><td>&hellip;</td><td>&hellip;</td><td>&hellip;</td><td>&hellip;</td><td>&hellip;</td><td>&hellip;</td><td>&hellip;</td><td>&hellip;</td><td>&hellip;</td><td>&hellip;</td><td>&hellip;</td><td>&hellip;</td><td>&hellip;</td><td>&hellip;</td><td>&hellip;</td><td>&hellip;</td><td>&hellip;</td><td>&hellip;</td><td>&hellip;</td><td>&hellip;</td><td>&hellip;</td><td>&hellip;</td></tr><tr><td>9.7761e18</td><td>1</td><td>14103023</td><td>1002</td><td>0</td><td>&quot;d1a51189&quot;</td><td>&quot;c4e18dd6&quot;</td><td>&quot;50e219e0&quot;</td><td>&quot;ecad2386&quot;</td><td>&quot;7801e8d9&quot;</td><td>&quot;07d7df22&quot;</td><td>&quot;6b0603bd&quot;</td><td>&quot;12332d48&quot;</td><td>&quot;4d9a509f&quot;</td><td>0</td><td>0</td><td>21789</td><td>320</td><td>50</td><td>2512</td><td>2</td><td>291</td><td>-1</td><td>52</td></tr><tr><td>9.7945e18</td><td>1</td><td>14103023</td><td>1005</td><td>0</td><td>&quot;85f751fd&quot;</td><td>&quot;c4e18dd6&quot;</td><td>&quot;50e219e0&quot;</td><td>&quot;9c13b419&quot;</td><td>&quot;2347f47a&quot;</td><td>&quot;f95efa07&quot;</td><td>&quot;a99f214a&quot;</td><td>&quot;193e121a&quot;</td><td>&quot;a9fd454b&quot;</td><td>1</td><td>0</td><td>23722</td><td>320</td><td>50</td><td>2716</td><td>3</td><td>47</td><td>-1</td><td>23</td></tr><tr><td>9.8129e18</td><td>0</td><td>14103023</td><td>1005</td><td>1</td><td>&quot;85f751fd&quot;</td><td>&quot;c4e18dd6&quot;</td><td>&quot;50e219e0&quot;</td><td>&quot;cf0327f9&quot;</td><td>&quot;2347f47a&quot;</td><td>&quot;0f2161f8&quot;</td><td>&quot;e74676a1&quot;</td><td>&quot;2c03bd79&quot;</td><td>&quot;84ebbcd4&quot;</td><td>1</td><td>0</td><td>22638</td><td>300</td><td>50</td><td>2060</td><td>3</td><td>39</td><td>100210</td><td>23</td></tr><tr><td>9.8332e18</td><td>0</td><td>14103023</td><td>1005</td><td>0</td><td>&quot;1fbe01fe&quot;</td><td>&quot;f3845767&quot;</td><td>&quot;28905ebd&quot;</td><td>&quot;ecad2386&quot;</td><td>&quot;7801e8d9&quot;</td><td>&quot;07d7df22&quot;</td><td>&quot;a99f214a&quot;</td><td>&quot;07875ea4&quot;</td><td>&quot;cbb77256&quot;</td><td>1</td><td>0</td><td>22676</td><td>320</td><td>50</td><td>2616</td><td>0</td><td>35</td><td>-1</td><td>51</td></tr><tr><td>9.8507e18</td><td>1</td><td>14103023</td><td>1005</td><td>1</td><td>&quot;e8f79e60&quot;</td><td>&quot;c4342784&quot;</td><td>&quot;f028772b&quot;</td><td>&quot;ecad2386&quot;</td><td>&quot;7801e8d9&quot;</td><td>&quot;07d7df22&quot;</td><td>&quot;a99f214a&quot;</td><td>&quot;3e89298f&quot;</td><td>&quot;8a4875bd&quot;</td><td>1</td><td>0</td><td>23722</td><td>320</td><td>50</td><td>2716</td><td>3</td><td>47</td><td>-1</td><td>23</td></tr><tr><td>9.8710e18</td><td>0</td><td>14103023</td><td>1005</td><td>0</td><td>&quot;1fbe01fe&quot;</td><td>&quot;f3845767&quot;</td><td>&quot;28905ebd&quot;</td><td>&quot;ecad2386&quot;</td><td>&quot;7801e8d9&quot;</td><td>&quot;07d7df22&quot;</td><td>&quot;a99f214a&quot;</td><td>&quot;e28ebe70&quot;</td><td>&quot;8a4875bd&quot;</td><td>1</td><td>0</td><td>15704</td><td>320</td><td>50</td><td>1722</td><td>0</td><td>35</td><td>-1</td><td>79</td></tr><tr><td>9.8882e18</td><td>0</td><td>14103023</td><td>1002</td><td>0</td><td>&quot;391b8861&quot;</td><td>&quot;6792a5e4&quot;</td><td>&quot;50e219e0&quot;</td><td>&quot;ecad2386&quot;</td><td>&quot;7801e8d9&quot;</td><td>&quot;07d7df22&quot;</td><td>&quot;c972c615&quot;</td><td>&quot;a8d3ef48&quot;</td><td>&quot;7a5cc0fb&quot;</td><td>0</td><td>0</td><td>23438</td><td>320</td><td>50</td><td>2684</td><td>2</td><td>1327</td><td>-1</td><td>52</td></tr><tr><td>9.9071e17</td><td>1</td><td>14103023</td><td>1005</td><td>0</td><td>&quot;1fbe01fe&quot;</td><td>&quot;f3845767&quot;</td><td>&quot;28905ebd&quot;</td><td>&quot;ecad2386&quot;</td><td>&quot;7801e8d9&quot;</td><td>&quot;07d7df22&quot;</td><td>&quot;a99f214a&quot;</td><td>&quot;d418c5b6&quot;</td><td>&quot;1f0bc64f&quot;</td><td>1</td><td>0</td><td>22104</td><td>320</td><td>50</td><td>2545</td><td>0</td><td>431</td><td>100084</td><td>221</td></tr><tr><td>9.9280e18</td><td>0</td><td>14103023</td><td>1005</td><td>0</td><td>&quot;85f751fd&quot;</td><td>&quot;c4e18dd6&quot;</td><td>&quot;50e219e0&quot;</td><td>&quot;396df801&quot;</td><td>&quot;2347f47a&quot;</td><td>&quot;0f2161f8&quot;</td><td>&quot;0108af7d&quot;</td><td>&quot;a390f53d&quot;</td><td>&quot;15a4af7e&quot;</td><td>1</td><td>0</td><td>23866</td><td>320</td><td>50</td><td>2736</td><td>0</td><td>33</td><td>-1</td><td>246</td></tr><tr><td>9.9494e17</td><td>1</td><td>14103023</td><td>1005</td><td>0</td><td>&quot;85f751fd&quot;</td><td>&quot;c4e18dd6&quot;</td><td>&quot;50e219e0&quot;</td><td>&quot;d36838b1&quot;</td><td>&quot;0e8616ad&quot;</td><td>&quot;0f2161f8&quot;</td><td>&quot;a99f214a&quot;</td><td>&quot;21cbd43c&quot;</td><td>&quot;2319f641&quot;</td><td>1</td><td>2</td><td>23866</td><td>320</td><td>50</td><td>2736</td><td>0</td><td>33</td><td>100170</td><td>246</td></tr><tr><td>9.9660e17</td><td>1</td><td>14103023</td><td>1005</td><td>0</td><td>&quot;85f751fd&quot;</td><td>&quot;c4e18dd6&quot;</td><td>&quot;50e219e0&quot;</td><td>&quot;9c13b419&quot;</td><td>&quot;2347f47a&quot;</td><td>&quot;f95efa07&quot;</td><td>&quot;a99f214a&quot;</td><td>&quot;b8dcb667&quot;</td><td>&quot;3bc980aa&quot;</td><td>1</td><td>0</td><td>23160</td><td>320</td><td>50</td><td>2667</td><td>0</td><td>47</td><td>-1</td><td>221</td></tr><tr><td>9.9873e18</td><td>0</td><td>14103023</td><td>1005</td><td>0</td><td>&quot;85f751fd&quot;</td><td>&quot;c4e18dd6&quot;</td><td>&quot;50e219e0&quot;</td><td>&quot;e2fcccd2&quot;</td><td>&quot;5c5a694b&quot;</td><td>&quot;0f2161f8&quot;</td><td>&quot;c7a43d7c&quot;</td><td>&quot;0fc3ba9b&quot;</td><td>&quot;be87996b&quot;</td><td>1</td><td>2</td><td>20632</td><td>320</td><td>50</td><td>2374</td><td>3</td><td>39</td><td>-1</td><td>23</td></tr></tbody></table></div>"
      ],
      "text/plain": [
       "shape: (404_290, 24)\n",
       "┌───────────┬───────┬──────────┬──────┬───┬─────┬─────┬────────┬─────┐\n",
       "│ id        ┆ click ┆ hour     ┆ C1   ┆ … ┆ C18 ┆ C19 ┆ C20    ┆ C21 │\n",
       "│ ---       ┆ ---   ┆ ---      ┆ ---  ┆   ┆ --- ┆ --- ┆ ---    ┆ --- │\n",
       "│ f64       ┆ i64   ┆ i64      ┆ i64  ┆   ┆ i64 ┆ i64 ┆ i64    ┆ i64 │\n",
       "╞═══════════╪═══════╪══════════╪══════╪═══╪═════╪═════╪════════╪═════╡\n",
       "│ 1.0000e18 ┆ 0     ┆ 14102100 ┆ 1005 ┆ … ┆ 0   ┆ 35  ┆ -1     ┆ 79  │\n",
       "│ 1.0016e19 ┆ 0     ┆ 14102100 ┆ 1005 ┆ … ┆ 0   ┆ 687 ┆ 100075 ┆ 48  │\n",
       "│ 1.0029e18 ┆ 0     ┆ 14102100 ┆ 1005 ┆ … ┆ 0   ┆ 35  ┆ -1     ┆ 157 │\n",
       "│ 1.0045e19 ┆ 0     ┆ 14102100 ┆ 1005 ┆ … ┆ 3   ┆ 427 ┆ 100000 ┆ 61  │\n",
       "│ …         ┆ …     ┆ …        ┆ …    ┆ … ┆ …   ┆ …   ┆ …      ┆ …   │\n",
       "│ 9.9280e18 ┆ 0     ┆ 14103023 ┆ 1005 ┆ … ┆ 0   ┆ 33  ┆ -1     ┆ 246 │\n",
       "│ 9.9494e17 ┆ 1     ┆ 14103023 ┆ 1005 ┆ … ┆ 0   ┆ 33  ┆ 100170 ┆ 246 │\n",
       "│ 9.9660e17 ┆ 1     ┆ 14103023 ┆ 1005 ┆ … ┆ 0   ┆ 47  ┆ -1     ┆ 221 │\n",
       "│ 9.9873e18 ┆ 0     ┆ 14103023 ┆ 1005 ┆ … ┆ 3   ┆ 39  ┆ -1     ┆ 23  │\n",
       "└───────────┴───────┴──────────┴──────┴───┴─────┴─────┴────────┴─────┘"
      ]
     },
     "execution_count": 3,
     "metadata": {},
     "output_type": "execute_result"
    }
   ],
   "source": [
    "df"
   ]
  },
  {
   "cell_type": "code",
   "execution_count": 4,
   "metadata": {},
   "outputs": [
    {
     "data": {
      "text/html": [
       "<div><style>\n",
       ".dataframe > thead > tr > th,\n",
       ".dataframe > tbody > tr > td {\n",
       "  text-align: right;\n",
       "}\n",
       "</style>\n",
       "<small>shape: (1, 24)</small><table border=\"1\" class=\"dataframe\"><thead><tr><th>id</th><th>click</th><th>hour</th><th>C1</th><th>banner_pos</th><th>site_id</th><th>site_domain</th><th>site_category</th><th>app_id</th><th>app_domain</th><th>app_category</th><th>device_id</th><th>device_ip</th><th>device_model</th><th>device_type</th><th>device_conn_type</th><th>C14</th><th>C15</th><th>C16</th><th>C17</th><th>C18</th><th>C19</th><th>C20</th><th>C21</th></tr><tr><td>u32</td><td>u32</td><td>u32</td><td>u32</td><td>u32</td><td>u32</td><td>u32</td><td>u32</td><td>u32</td><td>u32</td><td>u32</td><td>u32</td><td>u32</td><td>u32</td><td>u32</td><td>u32</td><td>u32</td><td>u32</td><td>u32</td><td>u32</td><td>u32</td><td>u32</td><td>u32</td><td>u32</td></tr></thead><tbody><tr><td>0</td><td>0</td><td>0</td><td>0</td><td>0</td><td>0</td><td>0</td><td>0</td><td>0</td><td>0</td><td>0</td><td>0</td><td>0</td><td>0</td><td>0</td><td>0</td><td>0</td><td>0</td><td>0</td><td>0</td><td>0</td><td>0</td><td>0</td><td>0</td></tr></tbody></table></div>"
      ],
      "text/plain": [
       "shape: (1, 24)\n",
       "┌─────┬───────┬──────┬─────┬───┬─────┬─────┬─────┬─────┐\n",
       "│ id  ┆ click ┆ hour ┆ C1  ┆ … ┆ C18 ┆ C19 ┆ C20 ┆ C21 │\n",
       "│ --- ┆ ---   ┆ ---  ┆ --- ┆   ┆ --- ┆ --- ┆ --- ┆ --- │\n",
       "│ u32 ┆ u32   ┆ u32  ┆ u32 ┆   ┆ u32 ┆ u32 ┆ u32 ┆ u32 │\n",
       "╞═════╪═══════╪══════╪═════╪═══╪═════╪═════╪═════╪═════╡\n",
       "│ 0   ┆ 0     ┆ 0    ┆ 0   ┆ … ┆ 0   ┆ 0   ┆ 0   ┆ 0   │\n",
       "└─────┴───────┴──────┴─────┴───┴─────┴─────┴─────┴─────┘"
      ]
     },
     "execution_count": 4,
     "metadata": {},
     "output_type": "execute_result"
    }
   ],
   "source": [
    "df.null_count()"
   ]
  },
  {
   "cell_type": "markdown",
   "metadata": {},
   "source": [
    "# 前処理"
   ]
  },
  {
   "cell_type": "code",
   "execution_count": 5,
   "metadata": {
    "pycharm": {
     "name": "#%%\n"
    }
   },
   "outputs": [],
   "source": [
    "feature_names = [\n",
    "    \"hour\",\n",
    "    \"banner_pos\",\n",
    "    \"site_id\",\n",
    "    \"site_domain\",\n",
    "    \"site_category\",\n",
    "    \"app_id\",\n",
    "    \"app_domain\",\n",
    "    \"app_category\",\n",
    "    \"device_id\",\n",
    "    \"device_ip\",\n",
    "    \"device_model\",\n",
    "    \"device_type\",\n",
    "]\n",
    "\n",
    "target_name = \"click\""
   ]
  },
  {
   "cell_type": "code",
   "execution_count": 6,
   "metadata": {},
   "outputs": [],
   "source": [
    "X = df[feature_names]\n",
    "y= df[target_name]\n",
    "X_train, X_test, y_train, y_test = train_test_split(X, y, test_size=0.1, shuffle=False)\n",
    "X_train, X_valid, y_train, y_valid = train_test_split(X_train, y_train, test_size=0.1, shuffle=False)"
   ]
  },
  {
   "cell_type": "code",
   "execution_count": 7,
   "metadata": {
    "pycharm": {
     "name": "#%%\n"
    }
   },
   "outputs": [],
   "source": [
    "def preprocess(df: pl.dataframe.frame.DataFrame):    \n",
    "    df = df.with_columns(pl.col(\"hour\").apply(lambda x: datetime.strptime(str(x), \"%y%m%d%H\"))).rename({\"hour\": \"datetime\"})\n",
    "    hour = (df.get_column(\"datetime\").apply(lambda x: x.hour)).alias(\"hour\")\n",
    "    weekday = (df.get_column(\"datetime\").apply(lambda x: x.weekday())).alias(\"weekday\")\n",
    "    df = df.with_columns(hour, weekday)\n",
    "\n",
    "    feature_hasher = FeatureHasher(n_features=2**18, input_type=\"string\")\n",
    "    hashed_feature = feature_hasher.fit_transform(np.array(df.select(pl.all().cast(str))))\n",
    "    return hashed_feature"
   ]
  },
  {
   "cell_type": "code",
   "execution_count": 8,
   "metadata": {
    "pycharm": {
     "name": "#%%\n"
    }
   },
   "outputs": [],
   "source": [
    "X_train_preprocessed = preprocess(X_train)\n",
    "X_valid_preprocessed = preprocess(X_valid)\n",
    "X_test_preprocessed = preprocess(X_test)"
   ]
  },
  {
   "cell_type": "markdown",
   "metadata": {},
   "source": [
    "# ハイパラチューニング"
   ]
  },
  {
   "cell_type": "code",
   "execution_count": 9,
   "metadata": {},
   "outputs": [],
   "source": [
    "def grid_search(X_train, y_train, X_valid, y_valid) -> float:\n",
    "    best_score = 1e10\n",
    "    best_alpha = 0.01\n",
    "    for alpha in [1e-5, 1e-4, 1e-3, 1e2, 1e-1]:\n",
    "        model = SGDClassifier(loss=\"log_loss\", penalty=\"l2\", random_state=42, alpha=alpha)\n",
    "        model.fit(X_train, y_train)\n",
    "        score = model.score(X_valid, y_valid)\n",
    "        print(f\"Grid Search| alpha: {alpha}, score: {score}\")\n",
    "\n",
    "        if score > best_score:\n",
    "            best_score = score\n",
    "            best_alpha = alpha\n",
    "    return best_alpha\n"
   ]
  },
  {
   "cell_type": "markdown",
   "metadata": {},
   "source": [
    "# 学習・評価"
   ]
  },
  {
   "cell_type": "code",
   "execution_count": 10,
   "metadata": {
    "pycharm": {
     "name": "#%%\n"
    }
   },
   "outputs": [
    {
     "name": "stdout",
     "output_type": "stream",
     "text": [
      "Grid Search| alpha: 1e-05, score: 0.8437079176629015\n",
      "Grid Search| alpha: 0.0001, score: 0.8435430236073322\n",
      "Grid Search| alpha: 0.001, score: 0.8417566713386649\n",
      "Grid Search| alpha: 100.0, score: 0.8416467419682854\n",
      "Grid Search| alpha: 0.1, score: 0.8416467419682854\n",
      "test logloss: 0.835736723638972\n"
     ]
    }
   ],
   "source": [
    "best_alpha = grid_search(X_train_preprocessed, y_train, X_valid_preprocessed, y_valid)\n",
    "\n",
    "best_model = SGDClassifier(\n",
    "    loss=\"log_loss\", penalty=\"l2\", random_state=42, alpha=best_alpha\n",
    ")\n",
    "best_model.fit(X_train_preprocessed, y_train)\n",
    "\n",
    "print(\"test logloss: {}\".format(best_model.score(X_test_preprocessed, y_test)))"
   ]
  },
  {
   "cell_type": "code",
   "execution_count": null,
   "metadata": {},
   "outputs": [],
   "source": []
  }
 ],
 "metadata": {
  "kernelspec": {
   "display_name": "Python 3 (ipykernel)",
   "language": "python",
   "name": "python3"
  },
  "language_info": {
   "codemirror_mode": {
    "name": "ipython",
    "version": 3
   },
   "file_extension": ".py",
   "mimetype": "text/x-python",
   "name": "python",
   "nbconvert_exporter": "python",
   "pygments_lexer": "ipython3",
   "version": "3.9.0"
  },
  "varInspector": {
   "cols": {
    "lenName": 16,
    "lenType": 16,
    "lenVar": 40
   },
   "kernels_config": {
    "python": {
     "delete_cmd_postfix": "",
     "delete_cmd_prefix": "del ",
     "library": "var_list.py",
     "varRefreshCmd": "print(var_dic_list())"
    },
    "r": {
     "delete_cmd_postfix": ") ",
     "delete_cmd_prefix": "rm(",
     "library": "var_list.r",
     "varRefreshCmd": "cat(var_dic_list()) "
    }
   },
   "types_to_exclude": [
    "module",
    "function",
    "builtin_function_or_method",
    "instance",
    "_Feature"
   ],
   "window_display": false
  }
 },
 "nbformat": 4,
 "nbformat_minor": 1
}
